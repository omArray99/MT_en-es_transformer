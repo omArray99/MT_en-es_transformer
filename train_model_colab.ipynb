{
  "nbformat": 4,
  "nbformat_minor": 0,
  "metadata": {
    "colab": {
      "provenance": [],
      "gpuType": "T4"
    },
    "kernelspec": {
      "name": "python3",
      "display_name": "Python 3"
    },
    "language_info": {
      "name": "python"
    },
    "accelerator": "GPU"
  },
  "cells": [
    {
      "cell_type": "code",
      "source": [
        "%load_ext tensorboard"
      ],
      "metadata": {
        "id": "mHHihxXhQMpT"
      },
      "execution_count": 1,
      "outputs": []
    },
    {
      "cell_type": "code",
      "source": [
        "%%capture\n",
        "from google.colab import drive\n",
        "drive.mount('/content/drive')"
      ],
      "metadata": {
        "id": "rR131arWYHLP"
      },
      "execution_count": null,
      "outputs": []
    },
    {
      "cell_type": "code",
      "source": [
        "!pip install datasets\n",
        "!pip install tokenizers\n",
        "!pip install torchmetrics"
      ],
      "metadata": {
        "id": "SRsrx2_IMgLp"
      },
      "execution_count": null,
      "outputs": []
    },
    {
      "cell_type": "code",
      "source": [
        "!git clone https://github.com/omArray99/MT_en-es_transformer.git"
      ],
      "metadata": {
        "id": "DM4i-egLMgka"
      },
      "execution_count": null,
      "outputs": []
    },
    {
      "cell_type": "code",
      "source": [
        "%%capture\n",
        "%cd /content/MT_en-es_transformer"
      ],
      "metadata": {
        "id": "p2i0xUWTMgwJ"
      },
      "execution_count": 5,
      "outputs": []
    },
    {
      "cell_type": "code",
      "source": [
        "%tensorboard --logdir runs"
      ],
      "metadata": {
        "id": "xztJr2OEMg-g"
      },
      "execution_count": null,
      "outputs": []
    },
    {
      "cell_type": "code",
      "source": [
        "!mkdir -p /content/drive/MyDrive/Models/MT_en-es_transformer/weights\n",
        "!mkdir -p /content/drive/MyDrive/Models/MT_en-es_transformer/vocab"
      ],
      "metadata": {
        "id": "JQUK1680MhYg"
      },
      "execution_count": 7,
      "outputs": []
    },
    {
      "cell_type": "code",
      "source": [
        "from config import fetch_configuration\n",
        "cfg = fetch_configuration()\n",
        "cfg['model_dir'] = '..//drive/MyDrive/Models/MT_en-es_transformer/weights'\n",
        "cfg['tokenizer_path'] = '..//drive/MyDrive/Models/MT_en-es_transformer/vocab/tokenizer_{0}.json'\n",
        "cfg['batch_size'] = 24\n",
        "cfg['num_epochs'] = 20\n",
        "cfg['preload'] = None"
      ],
      "metadata": {
        "id": "hDhi5VevRveG"
      },
      "execution_count": 8,
      "outputs": []
    },
    {
      "cell_type": "code",
      "source": [
        "from train import train_model\n",
        "\n",
        "train_model(cfg)"
      ],
      "metadata": {
        "id": "JQ4axfstSHEH"
      },
      "execution_count": null,
      "outputs": []
    },
    {
      "cell_type": "code",
      "source": [],
      "metadata": {
        "id": "8iOv4E4XTwQZ"
      },
      "execution_count": null,
      "outputs": []
    }
  ]
}